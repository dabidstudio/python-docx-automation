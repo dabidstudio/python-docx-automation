{
 "cells": [
  {
   "cell_type": "markdown",
   "metadata": {},
   "source": [
    "# python-docx로 워드문서 다루기"
   ]
  },
  {
   "cell_type": "markdown",
   "metadata": {},
   "source": [
    "## 1 패키지 설치"
   ]
  },
  {
   "cell_type": "code",
   "execution_count": null,
   "metadata": {},
   "outputs": [],
   "source": [
    "!pip install python-docx\n"
   ]
  },
  {
   "cell_type": "markdown",
   "metadata": {},
   "source": [
    "## 2 워드문서 생성하기"
   ]
  },
  {
   "cell_type": "code",
   "execution_count": null,
   "metadata": {},
   "outputs": [],
   "source": [
    "## 간단한 파일 생성\n",
    "\n",
    "from docx import Document\n",
    "\n",
    "# 새 문서 생성\n",
    "doc = Document()\n",
    "\n",
    "# 문단 추가\n",
    "doc.add_paragraph(\"안녕하세요, Python-docx입니다!\")\n",
    "\n",
    "# 문서 저장\n",
    "doc.save(\"example.docx\")\n",
    "print(\"example.docx 파일이 생성되었습니다!\")"
   ]
  },
  {
   "cell_type": "markdown",
   "metadata": {},
   "source": [
    "## 3 문단별로 폰트 종류와 폰트 크기 설정하기"
   ]
  },
  {
   "cell_type": "code",
   "execution_count": null,
   "metadata": {},
   "outputs": [],
   "source": [
    "from docx import Document\n",
    "from docx.shared import Pt\n",
    "from docx.oxml.ns import qn\n",
    "\n",
    "# 새 문서 생성\n",
    "doc = Document()\n",
    "\n",
    "# 첫 번째 문단 - 기본 텍스트\n",
    "para1 = doc.add_paragraph(\"이 문장은 기본 스타일입니다.\")\n",
    "\n",
    "# 두 번째 문단 - 폰트와 크기 설정\n",
    "para2 = doc.add_paragraph(\"이 문장은 폰트와 크기가 다릅니다.\")\n",
    "run = para2.runs[0]\n",
    "run.font.name = \"맑은 고딕\"\n",
    "run.font.size = Pt(16)\n",
    "run.bold = True\n",
    "run._element.rPr.rFonts.set(qn('w:eastAsia'), '맑은 고딕')  # 한글 폰트 설정\n",
    "\n",
    "# 저장\n",
    "doc.save(\"styled_text.docx\")\n",
    "print(\"styled_text.docx 파일이 생성되었습니다!\")"
   ]
  },
  {
   "cell_type": "markdown",
   "metadata": {},
   "source": [
    "## 4 문단 정렬과 들여쓰기"
   ]
  },
  {
   "cell_type": "code",
   "execution_count": null,
   "metadata": {},
   "outputs": [
    {
     "ename": "",
     "evalue": "",
     "output_type": "error",
     "traceback": [
      "\u001b[1;31mRunning cells with 'venv (Python 3.12.8)' requires the ipykernel package.\n",
      "\u001b[1;31mRun the following command to install 'ipykernel' into the Python environment. \n",
      "\u001b[1;31mCommand: 'c:/projects/dabidstudio/python-docx-automation/venv/Scripts/python.exe -m pip install ipykernel -U --force-reinstall'"
     ]
    }
   ],
   "source": [
    "from docx.enum.text import WD_PARAGRAPH_ALIGNMENT\n",
    "from docx.shared import Pt, Cm\n",
    "\n",
    "# Add a centered paragraph\n",
    "para3 = doc.add_paragraph(\"이 문장은 가운데 정렬되었습니다.\")\n",
    "para3.alignment = WD_PARAGRAPH_ALIGNMENT.CENTER\n",
    "\n",
    "# Add a paragraph with indentation\n",
    "para4 = doc.add_paragraph(\"이 문장은 들여쓰기가 설정되었습니다.\")\n",
    "para4_format = para4.paragraph_format\n",
    "para4_format.left_indent = Cm(1)\n",
    "para4_format.first_line_indent = Cm(1)\n",
    "doc.save(\"alignment_indentation.docx\")\n",
    "print(\"alignment_indentation.docx 파일이 생성되었습니다!\")\n"
   ]
  },
  {
   "cell_type": "markdown",
   "metadata": {},
   "source": [
    "## 5 둘째줄 들여쓰기"
   ]
  },
  {
   "cell_type": "code",
   "execution_count": null,
   "metadata": {},
   "outputs": [],
   "source": [
    "from docx import Document\n",
    "from docx.shared import Cm\n",
    "\n",
    "# Create a new document\n",
    "doc = Document()\n",
    "\n",
    "# Add a paragraph with a hanging indent\n",
    "para = doc.add_paragraph(\"이 문장은 매달린 들여쓰기가 적용된 예제입니다. \"\n",
    "                         \"첫 번째 줄은 들여쓰기가 없고, 나머지 줄은 들여쓰기되어 있습니다.\")\n",
    "para_format = para.paragraph_format\n",
    "para_format.left_indent = Cm(1)  # 전체 들여쓰기\n",
    "para_format.first_line_indent = Cm(-1)  # 첫 줄은 내어쓰기\n",
    "\n",
    "# Save the document\n",
    "doc.save(\"hanging_indent.docx\")\n",
    "print(\"hanging_indent.docx 파일이 생성되었습니다!\")"
   ]
  },
  {
   "cell_type": "markdown",
   "metadata": {},
   "source": [
    "## 6 문단 앞 / 뒤 간격"
   ]
  },
  {
   "cell_type": "code",
   "execution_count": null,
   "metadata": {},
   "outputs": [],
   "source": [
    "from docx import Document\n",
    "from docx.shared import Pt\n",
    "\n",
    "# Create a new document\n",
    "doc = Document()\n",
    "\n",
    "# Add a paragraph with space before and after\n",
    "para = doc.add_paragraph(\"이 문장은 위아래로 여백이 설정되었습니다.\")\n",
    "para_format = para.paragraph_format\n",
    "para_format.space_before = Pt(12)  # 12 pt space before the paragraph\n",
    "para_format.space_after = Pt(18)   # 18 pt space after the paragraph\n",
    "\n",
    "# Save the document\n",
    "doc.save(\"spacing_before_after.docx\")\n",
    "print(\"spacing_before_after.docx 파일이 생성되었습니다!\")"
   ]
  },
  {
   "cell_type": "markdown",
   "metadata": {},
   "source": [
    "## 7 줄간격 설정"
   ]
  },
  {
   "cell_type": "code",
   "execution_count": null,
   "metadata": {},
   "outputs": [],
   "source": [
    "# Add a paragraph with custom line spacing\n",
    "para2 = doc.add_paragraph(\"이 문장은 줄 간격이 설정되었습니다.\\n\"\n",
    "                          \"이 문장은 줄 간격이 설정되었습니다.\")\n",
    "para2_format = para2.paragraph_format\n",
    "para2_format.line_spacing = 1.5  # 1.5 line spacing\n",
    "\n",
    "# Save the document\n",
    "doc.save(\"line_spacing.docx\")\n",
    "print(\"line_spacing.docx 파일이 생성되었습니다!\")\n"
   ]
  }
 ],
 "metadata": {
  "kernelspec": {
   "display_name": "venv",
   "language": "python",
   "name": "python3"
  },
  "language_info": {
   "name": "python",
   "version": "3.12.8"
  }
 },
 "nbformat": 4,
 "nbformat_minor": 2
}
